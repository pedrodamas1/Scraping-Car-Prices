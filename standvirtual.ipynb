{
 "cells": [
  {
   "cell_type": "markdown",
   "metadata": {},
   "source": [
    "Comments"
   ]
  },
  {
   "cell_type": "code",
   "execution_count": 10,
   "metadata": {},
   "outputs": [
    {
     "name": "stdout",
     "output_type": "stream",
     "text": [
      "Page: 1419 - ad found: 31/32\r"
     ]
    }
   ],
   "source": [
    "import requests\n",
    "from bs4 import BeautifulSoup\n",
    "import pandas as pd\n",
    "import json\n",
    "import logging\n",
    "\n",
    "# Create and configure logger\n",
    "logging.basicConfig(\n",
    "\tfilename = \"debug.log\",\n",
    "\tformat = \"%(asctime)s [%(levelname)s] %(message)s\",\n",
    "\tfilemode = 'w')\n",
    "\n",
    "# Create a custom logger to prevent debugging info from imported modules\n",
    "logger = logging.getLogger(__name__)\n",
    "\n",
    "# Setting the threshold of logger to DEBUG\n",
    "logger.setLevel(logging.DEBUG)\n",
    "\n",
    "# Create an empty list to hold the data\n",
    "data = []\n",
    "\n",
    "# Loop over all the pages in the website\n",
    "for page in range(1420):\n",
    "\n",
    "\t# Create the url for each page\n",
    "\turl = 'https://www.standvirtual.com/carros/usados?page={}'.format(page)\n",
    "\n",
    "\t# Get the page contents\n",
    "\tr = requests.get(url)\n",
    "\n",
    "\t# Scrape the page contents\n",
    "\tsoup = BeautifulSoup(r.content, 'html.parser')\n",
    "\n",
    "\t# Find the ads\n",
    "\tads = soup.find_all(\"article\", {\"class\": \"ooa-yca59n eszxync0\"})\n",
    "\n",
    "\t# Loop through each ad to scrape the relevant data\n",
    "\tfor i, ad in enumerate(ads):\n",
    "\n",
    "\t\t# Give a summary of the ads found in each page\n",
    "\t\tprint(f'Page: {page} - ad found: {i}/{len(ads)}', end='\\r')\n",
    "\n",
    "\t\ttry:\n",
    "\t\t\t# Get the ad attributes\n",
    "\t\t\ttitle = ad.find(\"h1\", {\"class\": \"eszxync9 ooa-1ed90th er34gjf0\"}).text\n",
    "\t\t\tcc_hp = ad.find(\"p\", {\"class\": \"eszxync10 ooa-1tku07r er34gjf0\"}).text\n",
    "\t\t\tkms, fuel, gear, year = [attr.text for attr in ad.find_all(\"dd\", {\"class\": \"ooa-1omlbtp eszxync13\"})]\n",
    "\t\t\tloc = ad.find(\"dd\", {\"class\": \"ooa-1jb4k0u eszxync15\"}).text\n",
    "\t\t\tprice = ad.find(\"h3\", {\"class\": \"eszxync16 ooa-1n2paoq er34gjf0\"}).text\n",
    "\n",
    "\t\t\t# Append the attributes to the data list as a dictionary \n",
    "\t\t\tdata.append({\n",
    "\t\t\t\t'TITLE': title,\n",
    "\t\t\t\t'CC_HP': cc_hp,\n",
    "\t\t\t\t'KMS': kms,\n",
    "\t\t\t\t'FUEL': fuel,\n",
    "\t\t\t\t'GEAR': gear,\n",
    "\t\t\t\t'YEAR': year,\n",
    "\t\t\t\t'LOC': loc,\n",
    "\t\t\t\t'PRICE': price,\n",
    "\t\t\t})\n",
    "\n",
    "\t\t\t# Write to the logger\n",
    "\t\t\tlogger.info(f'Sucessfully scraped page: {page} - ad found: {i}/{len(ads)}')\n",
    "\n",
    "\t\texcept Exception as err:\n",
    "\t\t\tlogger.error(f'Failed to scrape page: {page} - ad found: {i}/{len(ads)}')\n",
    "\n",
    "# Print the data as wished\n",
    "# print(json.dumps(data, indent=4))\n",
    "\n",
    "# Save the data to an excel file\n",
    "df = pd.DataFrame(data)\n",
    "df.to_excel('RAW_DATA.xlsx', index=False)"
   ]
  },
  {
   "cell_type": "markdown",
   "metadata": {},
   "source": [
    "Comments"
   ]
  },
  {
   "cell_type": "code",
   "execution_count": 18,
   "metadata": {},
   "outputs": [
    {
     "name": "stdout",
     "output_type": "stream",
     "text": [
      "InfoNeeded\n",
      "1 900\n",
      "['1 900']\n",
      "1 900\n",
      "398 \n"
     ]
    }
   ],
   "source": [
    "\n",
    "import re\n",
    "\n",
    "match = re.match(r\"^.*\\['(.*)'\\].*$\", \"foobar['InfoNeeded'],\")\n",
    "print(match.group(1))\n",
    "\n",
    "match = re.match(r\"^(.*) cm3\", \"1 900 cm3 - 398 cv\")\n",
    "print(match.group(1))\n",
    "\n",
    "match = re.findall(r\"^(.*) cm3\", \"1 900 cm3 - 398 cv\")\n",
    "print(match)\n",
    "\n",
    "match = re.search(r\"^(.*) cm3\", \"1 900 cm3 - 398 cv\")\n",
    "print(match.group(1))\n",
    "\n",
    "match = re.match(r\"^.*- (.*)cv.*$\", \"1 900 cm3 - 398 cv\")\n",
    "print(match.group(1))\n",
    "\n",
    "#re.findall(r\"^.*\\['(.*)'\\].*$\", \"1 900 cm3 - 398 cv\")\n",
    "#re.findall(r'[0-9]{3}', \"1 900 cm3 - 398 cv\")\n",
    "#re.match(\"(.*?)cm3\", \"1 900 cm3 - 398 cv\") #.group()\n",
    "#re.match(\"(.*?) cv\", \"1 900 cm3 - 398 cv\").group()\n",
    "#str = \"foobar['InfoNeeded'],\"\n",
    "#match = re.match(r\"^.*\\['(.*)'\\].*$\",str)\n",
    "#print match.group(1)"
   ]
  }
 ],
 "metadata": {
  "kernelspec": {
   "display_name": "Python 3",
   "language": "python",
   "name": "python3"
  },
  "language_info": {
   "codemirror_mode": {
    "name": "ipython",
    "version": 3
   },
   "file_extension": ".py",
   "mimetype": "text/x-python",
   "name": "python",
   "nbconvert_exporter": "python",
   "pygments_lexer": "ipython3",
   "version": "3.11.7"
  }
 },
 "nbformat": 4,
 "nbformat_minor": 2
}
